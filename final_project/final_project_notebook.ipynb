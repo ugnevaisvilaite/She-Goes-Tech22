{
 "cells": [
  {
   "cell_type": "markdown",
   "metadata": {},
   "source": [
    "#### Project by: Ugne Vaisvilaite and Ieva Zarina"
   ]
  },
  {
   "cell_type": "markdown",
   "metadata": {},
   "source": [
    "# Web Scraping & Data Analysis\n",
    "## Table of contents\n",
    "\n",
    "1. [Introduction](#Introduction)\n",
    "    - [Required libraries](#Required-libraries)\n",
    "\n",
    "2. [Step 1: Web scraping](#Step-1:-Web-scraping)\n",
    "    - [Scraping Booking.com](#Scraping-booking.com)\n",
    "    - [Scraping TripAdvisor.com](#Scraping-TripAdvisor.com)\n",
    "\n",
    "3. [Step 2: Saving the data](#Step-2:-Saving-the-data)\n",
    "\n",
    "4. [Step 3: Data analysis](#Step-3:-Data-analysis)\n",
    "5. [Step 4: Plotting the data](#Step-4:-Plotting-the-data)\n",
    "\n"
   ]
  },
  {
   "cell_type": "markdown",
   "metadata": {},
   "source": [
    "## Introduction\n",
    "[[ go back to the top ]](#Table-of-contents)\n",
    " \n",
    "This is the final She Goes Tech training course project. The project consists of web scraping and data analysis parts. Data was scrapped from Booking.com and TripAdvisor.com travel accommodation sites. The main target was to analyze which site offers the cheapest one-night stays and price and rating ratio.ratio.\n",
    "\n",
    "## Required libraries\n",
    "[[ go back to the top ]](#Table-of-contents)\n",
    "\n",
    "This notebook uses several Python packages that come standard with the Python distribution. The primary libraries that we'll be using are:\n",
    "\n",
    "* **Selenium**: This package is used to automate web browser interaction from Python.\n",
    "* **BeautifulSoup**: Beautiful Soup helps you pull particular content from a webpage, remove the HTML markup, and save the information.\n",
    "* **pandas**: Provides a DataFrame structure to store data in memory and work with it easily and efficiently.\n",
    "* **Matplotlib**: A comprehensive library for creating static, animated, and interactive visualizations.\n",
    "* **Seaborn**: Data visualization library that provides a high-level interface for drawing attractive and informative statistical graphics."
   ]
  },
  {
   "cell_type": "code",
   "execution_count": 5,
   "metadata": {},
   "outputs": [],
   "source": [
    "from selenium import webdriver\n",
    "from selenium.webdriver.common.keys import Keys\n",
    "from selenium.webdriver.common.by import By\n",
    "from bs4 import BeautifulSoup\n",
    "import pandas as pd\n",
    "import matplotlib.pyplot as plt\n",
    "import seaborn as sns"
   ]
  },
  {
   "cell_type": "markdown",
   "metadata": {},
   "source": [
    "## Step 1: Web scraping\n",
    "\n",
    "[[ go back to the top ]](#Table-of-contents)\n",
    "\n",
    "Selenium was used as page loader and Beautiful Soup for fetching the data. Because pages have pretty different parameters and layout structures.\n",
    "\n",
    "### Scraping Booking.com\n",
    "\n",
    "[[ go back to the top ]](#Table-of-contents)\n",
    "\n",
    "> After creating an object of Webdriver, we can open a webpage and perform various actions such as opening window, filling search bar, clicking tabs, etc."
   ]
  },
  {
   "cell_type": "code",
   "execution_count": 99,
   "metadata": {},
   "outputs": [],
   "source": [
    "browser=webdriver.Chrome()\n",
    "\n",
    "#load Booking.com page\n",
    "browser.get('https://www.booking.com')\n",
    "assert 'Booking.com' in browser.title "
   ]
  },
  {
   "cell_type": "code",
   "execution_count": 100,
   "metadata": {},
   "outputs": [],
   "source": [
    "#Click accept button\n",
    "accept = browser.find_element(By.ID, \"onetrust-accept-btn-handler\")\n",
    "accept.click()"
   ]
  },
  {
   "cell_type": "code",
   "execution_count": 101,
   "metadata": {},
   "outputs": [],
   "source": [
    "#Enter destination\n",
    "search_box = browser.find_element(By.NAME, 'ss')\n",
    "search_box.send_keys('London' + Keys.RETURN)"
   ]
  },
  {
   "cell_type": "code",
   "execution_count": 102,
   "metadata": {},
   "outputs": [],
   "source": [
    "#If needed remove Genius advertisements\n",
    "genius_element = browser.find_element(By.CSS_SELECTOR, '[aria-label=\"Dismiss sign in information.\"]')\n",
    "genius_element.click()"
   ]
  },
  {
   "cell_type": "code",
   "execution_count": 103,
   "metadata": {},
   "outputs": [],
   "source": [
    "#Press calendar button to enter check in date (without check out date system automatically sets one night stay)\n",
    "calendar_button = browser.find_element(By.CLASS_NAME, 'd47738b911')\n",
    "calendar_button.click()\n"
   ]
  },
  {
   "cell_type": "code",
   "execution_count": 106,
   "metadata": {},
   "outputs": [],
   "source": [
    "#Move forward/backwards to choose the month of the stay\n",
    "forward_calendar_page = browser.find_element(By.CLASS_NAME,\"be298b15fa\")\n",
    "forward_calendar_page.click()"
   ]
  },
  {
   "cell_type": "code",
   "execution_count": 125,
   "metadata": {},
   "outputs": [],
   "source": [
    "backward_calendar_page = browser.find_element(By.CLASS_NAME,\"ab15620a33\")\n",
    "backward_calendar_page.click()\n"
   ]
  },
  {
   "cell_type": "code",
   "execution_count": 107,
   "metadata": {},
   "outputs": [],
   "source": [
    "#Enter check-in date\n",
    "check_in_date = browser.find_element(By.CSS_SELECTOR, '[data-date=\"2023-02-09\"]')\n",
    "check_in_date.click()\n"
   ]
  },
  {
   "cell_type": "code",
   "execution_count": 108,
   "metadata": {},
   "outputs": [],
   "source": [
    "submit = browser.find_element(By.CSS_SELECTOR, '[type=submit]')\n",
    "submit.click()"
   ]
  },
  {
   "cell_type": "code",
   "execution_count": 109,
   "metadata": {},
   "outputs": [],
   "source": [
    "#To avoid \"new\" accomodations let's set required review scores\n",
    "number_list=list(range(90, 50, -10))\n",
    "number_list\n",
    "for i in number_list:\n",
    "    review_score = browser.find_element(By.CSS_SELECTOR, f\"[data-filters-item='review_score:review_score={i}']\")\n",
    "    review_score.click()"
   ]
  },
  {
   "cell_type": "code",
   "execution_count": 110,
   "metadata": {},
   "outputs": [],
   "source": [
    "soup = BeautifulSoup(browser.page_source, 'lxml')"
   ]
  },
  {
   "cell_type": "code",
   "execution_count": 111,
   "metadata": {},
   "outputs": [
    {
     "data": {
      "text/plain": [
       "25"
      ]
     },
     "execution_count": 111,
     "metadata": {},
     "output_type": "execute_result"
    }
   ],
   "source": [
    "hotels_booking = []\n",
    "for name in soup.findAll('div',{'data-testid':'title'}):\n",
    "  hotels_booking.append(name.text.strip())\n",
    "hotels_booking[:5]\n",
    "len(hotels_booking)"
   ]
  },
  {
   "cell_type": "code",
   "execution_count": 112,
   "metadata": {},
   "outputs": [
    {
     "data": {
      "text/plain": [
       "25"
      ]
     },
     "execution_count": 112,
     "metadata": {},
     "output_type": "execute_result"
    }
   ],
   "source": [
    "ratings_booking = []\n",
    "for rating in soup.findAll('div',{'class':'d10a6220b4'}):\n",
    "      ratings_booking.append(rating.text.strip())\n",
    "len(ratings_booking)"
   ]
  },
  {
   "cell_type": "code",
   "execution_count": 113,
   "metadata": {},
   "outputs": [
    {
     "data": {
      "text/plain": [
       "25"
      ]
     },
     "execution_count": 113,
     "metadata": {},
     "output_type": "execute_result"
    }
   ],
   "source": [
    "reviews_booking = []\n",
    "for review in soup.findAll('div',{'class':'db63693c62'}):\n",
    "  reviews_booking.append(review.text.replace('reviews','').replace(',','').strip())\n",
    "reviews_booking[:5]\n",
    "len(reviews_booking)"
   ]
  },
  {
   "cell_type": "code",
   "execution_count": 114,
   "metadata": {},
   "outputs": [
    {
     "data": {
      "text/plain": [
       "25"
      ]
     },
     "execution_count": 114,
     "metadata": {},
     "output_type": "execute_result"
    }
   ],
   "source": [
    "price_booking = []\n",
    "for p in soup.findAll('span',{'class':['fbd1d3018c', 'bd73d13072']}):\n",
    "  price_booking.append(p.text.replace('€','').replace(',','').strip()) \n",
    "price_booking[:5]\n",
    "len(price_booking)"
   ]
  },
  {
   "cell_type": "markdown",
   "metadata": {},
   "source": [
    "### Scraping TripAdvisor.com:\n",
    "\n",
    "[[ go back to the top ]](#Table-of-contents)"
   ]
  },
  {
   "cell_type": "code",
   "execution_count": 89,
   "metadata": {},
   "outputs": [],
   "source": [
    "browser=webdriver.Chrome()\n",
    "browser.get('https://www.tripadvisor.com/Hotels-g186338-a_ufe.true-London_England-Hotels.html')\n"
   ]
  },
  {
   "cell_type": "code",
   "execution_count": 90,
   "metadata": {},
   "outputs": [],
   "source": [
    "#Click accept button\n",
    "accept = browser.find_element(By.ID, \"onetrust-accept-btn-handler\")\n",
    "accept.click()"
   ]
  },
  {
   "cell_type": "code",
   "execution_count": 91,
   "metadata": {},
   "outputs": [],
   "source": [
    "soup = BeautifulSoup(browser.page_source, 'lxml')"
   ]
  },
  {
   "cell_type": "code",
   "execution_count": 92,
   "metadata": {},
   "outputs": [
    {
     "data": {
      "text/plain": [
       "['YOTEL London Shoreditch',\n",
       " 'Cove - Arne Street, Covent Garden',\n",
       " 'Four Seasons Hotel London at Ten Trinity Square',\n",
       " 'Threadneedles, Autograph Collection',\n",
       " 'Premier Inn London Tower Bridge hotel']"
      ]
     },
     "execution_count": 92,
     "metadata": {},
     "output_type": "execute_result"
    }
   ],
   "source": [
    "list_of_numbers = str(list(range(1, 101)))\n",
    "hotels_tripadvisor = []\n",
    "for name in soup.findAll('a',{'data-clicksource':'HotelName'}):\n",
    "      hotels_tripadvisor.append(name.text.strip(list_of_numbers + '.'))\n",
    "hotels_tripadvisor[:5]\n"
   ]
  },
  {
   "cell_type": "code",
   "execution_count": 93,
   "metadata": {},
   "outputs": [
    {
     "data": {
      "text/plain": [
       "33"
      ]
     },
     "execution_count": 93,
     "metadata": {},
     "output_type": "execute_result"
    }
   ],
   "source": [
    "ratings_tripadvisor = []\n",
    "for rating in soup.findAll('a',{'class':'ui_bubble_rating'}):\n",
    "      if rating['alt'] == \"5 of 5 bubbles\":\n",
    "            rating = 10\n",
    "      elif rating['alt'] == \"4.5 of 5 bubbles\":\n",
    "            rating = 9\n",
    "      elif rating['alt'] == \"4 of 5 bubbles\":\n",
    "            rating = 8\n",
    "      elif rating['alt'] == \"3.5 of 5 bubbles\":\n",
    "            rating = 7\n",
    "      elif rating['alt'] == \"3 of 5 bubbles\":\n",
    "            rating = 6\n",
    "      else:\n",
    "            rating = 5\n",
    "      ratings_tripadvisor.append(rating)\n",
    "len(ratings_tripadvisor)"
   ]
  },
  {
   "cell_type": "code",
   "execution_count": 94,
   "metadata": {},
   "outputs": [
    {
     "data": {
      "text/plain": [
       "33"
      ]
     },
     "execution_count": 94,
     "metadata": {},
     "output_type": "execute_result"
    }
   ],
   "source": [
    "reviews_tripadvisor = []\n",
    "for review in soup.findAll('a',{'class':'review_count'}):\n",
    "  reviews_tripadvisor.append(review.text.replace('reviews','').replace(',','').strip())\n",
    "len(reviews_tripadvisor)"
   ]
  },
  {
   "cell_type": "code",
   "execution_count": 95,
   "metadata": {},
   "outputs": [
    {
     "data": {
      "text/plain": [
       "33"
      ]
     },
     "execution_count": 95,
     "metadata": {},
     "output_type": "execute_result"
    }
   ],
   "source": [
    "price_tripadvisor = []\n",
    "for p in soup.findAll('div',{'data-sizegroup':'mini-meta-price'}):\n",
    "  price_tripadvisor.append(p.text.replace('€','').replace(',','').strip()) \n",
    "price_tripadvisor[:5]\n",
    "len(price_tripadvisor)"
   ]
  },
  {
   "cell_type": "markdown",
   "metadata": {},
   "source": [
    "## Step 2: Saving the data\n",
    "\n",
    "[[ go back to the top ]](#Table-of-contents)\n",
    "\n",
    "> After retrieving all the required data from the Booking.com and TripAdvisor.com web pages, the data was saved to dataframe using pandas."
   ]
  },
  {
   "cell_type": "code",
   "execution_count": 115,
   "metadata": {},
   "outputs": [],
   "source": [
    "df1 = {'Hotel':hotels_booking,'Ratings':ratings_booking,'No_of_Reviews':reviews_booking,'Price, €':price_booking}\n",
    "df_booking = pd.DataFrame.from_dict(df1)"
   ]
  },
  {
   "cell_type": "code",
   "execution_count": 116,
   "metadata": {},
   "outputs": [
    {
     "data": {
      "text/html": [
       "<div>\n",
       "<style scoped>\n",
       "    .dataframe tbody tr th:only-of-type {\n",
       "        vertical-align: middle;\n",
       "    }\n",
       "\n",
       "    .dataframe tbody tr th {\n",
       "        vertical-align: top;\n",
       "    }\n",
       "\n",
       "    .dataframe thead th {\n",
       "        text-align: right;\n",
       "    }\n",
       "</style>\n",
       "<table border=\"1\" class=\"dataframe\">\n",
       "  <thead>\n",
       "    <tr style=\"text-align: right;\">\n",
       "      <th></th>\n",
       "      <th>Hotel</th>\n",
       "      <th>Ratings</th>\n",
       "      <th>No_of_Reviews</th>\n",
       "      <th>Price, €</th>\n",
       "    </tr>\n",
       "  </thead>\n",
       "  <tbody>\n",
       "    <tr>\n",
       "      <th>0</th>\n",
       "      <td>Mornington Hotel London Victoria</td>\n",
       "      <td>7.6</td>\n",
       "      <td>1221</td>\n",
       "      <td>126</td>\n",
       "    </tr>\n",
       "    <tr>\n",
       "      <th>1</th>\n",
       "      <td>Yotel London Shoreditch</td>\n",
       "      <td>7.8</td>\n",
       "      <td>1800</td>\n",
       "      <td>132</td>\n",
       "    </tr>\n",
       "    <tr>\n",
       "      <th>2</th>\n",
       "      <td>Royal Lancaster London</td>\n",
       "      <td>9.1</td>\n",
       "      <td>3742</td>\n",
       "      <td>355</td>\n",
       "    </tr>\n",
       "    <tr>\n",
       "      <th>3</th>\n",
       "      <td>The Landmark London</td>\n",
       "      <td>8.9</td>\n",
       "      <td>3218</td>\n",
       "      <td>412</td>\n",
       "    </tr>\n",
       "    <tr>\n",
       "      <th>4</th>\n",
       "      <td>Nobu Hotel London Portman Square</td>\n",
       "      <td>8.5</td>\n",
       "      <td>883</td>\n",
       "      <td>519</td>\n",
       "    </tr>\n",
       "    <tr>\n",
       "      <th>5</th>\n",
       "      <td>The Montcalm At Brewery London City</td>\n",
       "      <td>6.8</td>\n",
       "      <td>2997</td>\n",
       "      <td>180</td>\n",
       "    </tr>\n",
       "    <tr>\n",
       "      <th>6</th>\n",
       "      <td>One Hundred Shoreditch</td>\n",
       "      <td>8.6</td>\n",
       "      <td>1661</td>\n",
       "      <td>234</td>\n",
       "    </tr>\n",
       "    <tr>\n",
       "      <th>7</th>\n",
       "      <td>Inhabit, Southwick Street</td>\n",
       "      <td>8.0</td>\n",
       "      <td>3475</td>\n",
       "      <td>208</td>\n",
       "    </tr>\n",
       "    <tr>\n",
       "      <th>8</th>\n",
       "      <td>Montcalm Royal London House-City of London</td>\n",
       "      <td>8.3</td>\n",
       "      <td>7950</td>\n",
       "      <td>262</td>\n",
       "    </tr>\n",
       "    <tr>\n",
       "      <th>9</th>\n",
       "      <td>White House Hotel</td>\n",
       "      <td>7.1</td>\n",
       "      <td>2065</td>\n",
       "      <td>75</td>\n",
       "    </tr>\n",
       "  </tbody>\n",
       "</table>\n",
       "</div>"
      ],
      "text/plain": [
       "                                        Hotel Ratings No_of_Reviews Price, €\n",
       "0            Mornington Hotel London Victoria     7.6          1221      126\n",
       "1                     Yotel London Shoreditch     7.8          1800      132\n",
       "2                      Royal Lancaster London     9.1          3742      355\n",
       "3                         The Landmark London     8.9          3218      412\n",
       "4            Nobu Hotel London Portman Square     8.5           883      519\n",
       "5         The Montcalm At Brewery London City     6.8          2997      180\n",
       "6                      One Hundred Shoreditch     8.6          1661      234\n",
       "7                   Inhabit, Southwick Street     8.0          3475      208\n",
       "8  Montcalm Royal London House-City of London     8.3          7950      262\n",
       "9                           White House Hotel     7.1          2065       75"
      ]
     },
     "execution_count": 116,
     "metadata": {},
     "output_type": "execute_result"
    }
   ],
   "source": [
    "df_booking[:10]"
   ]
  },
  {
   "cell_type": "code",
   "execution_count": null,
   "metadata": {},
   "outputs": [],
   "source": [
    "df_booking.to_csv(\"bookingcom_london_list.csv\")"
   ]
  },
  {
   "cell_type": "code",
   "execution_count": 96,
   "metadata": {},
   "outputs": [],
   "source": [
    "df2 = {'Hotel':hotels_tripadvisor,'Ratings':ratings_tripadvisor,'No_of_Reviews':reviews_tripadvisor,'Price, €':price_tripadvisor}\n",
    "df_tripadvisor = pd.DataFrame.from_dict(df2)"
   ]
  },
  {
   "cell_type": "code",
   "execution_count": 98,
   "metadata": {},
   "outputs": [
    {
     "data": {
      "text/html": [
       "<div>\n",
       "<style scoped>\n",
       "    .dataframe tbody tr th:only-of-type {\n",
       "        vertical-align: middle;\n",
       "    }\n",
       "\n",
       "    .dataframe tbody tr th {\n",
       "        vertical-align: top;\n",
       "    }\n",
       "\n",
       "    .dataframe thead th {\n",
       "        text-align: right;\n",
       "    }\n",
       "</style>\n",
       "<table border=\"1\" class=\"dataframe\">\n",
       "  <thead>\n",
       "    <tr style=\"text-align: right;\">\n",
       "      <th></th>\n",
       "      <th>Hotel</th>\n",
       "      <th>Ratings</th>\n",
       "      <th>No_of_Reviews</th>\n",
       "      <th>Price, €</th>\n",
       "    </tr>\n",
       "  </thead>\n",
       "  <tbody>\n",
       "    <tr>\n",
       "      <th>0</th>\n",
       "      <td>YOTEL London Shoreditch</td>\n",
       "      <td>9</td>\n",
       "      <td>692</td>\n",
       "      <td>198</td>\n",
       "    </tr>\n",
       "    <tr>\n",
       "      <th>1</th>\n",
       "      <td>Cove - Arne Street, Covent Garden</td>\n",
       "      <td>9</td>\n",
       "      <td>60</td>\n",
       "      <td>246</td>\n",
       "    </tr>\n",
       "    <tr>\n",
       "      <th>2</th>\n",
       "      <td>Four Seasons Hotel London at Ten Trinity Square</td>\n",
       "      <td>10</td>\n",
       "      <td>643</td>\n",
       "      <td>847</td>\n",
       "    </tr>\n",
       "    <tr>\n",
       "      <th>3</th>\n",
       "      <td>Threadneedles, Autograph Collection</td>\n",
       "      <td>9</td>\n",
       "      <td>1405</td>\n",
       "      <td>432</td>\n",
       "    </tr>\n",
       "    <tr>\n",
       "      <th>4</th>\n",
       "      <td>Premier Inn London Tower Bridge hotel</td>\n",
       "      <td>9</td>\n",
       "      <td>4252</td>\n",
       "      <td>98</td>\n",
       "    </tr>\n",
       "    <tr>\n",
       "      <th>5</th>\n",
       "      <td>The Westbridge Hotel</td>\n",
       "      <td>9</td>\n",
       "      <td>2156</td>\n",
       "      <td>188</td>\n",
       "    </tr>\n",
       "    <tr>\n",
       "      <th>6</th>\n",
       "      <td>The Waldorf Hilton London</td>\n",
       "      <td>8</td>\n",
       "      <td>5957</td>\n",
       "      <td>315</td>\n",
       "    </tr>\n",
       "    <tr>\n",
       "      <th>7</th>\n",
       "      <td>The Bentley London</td>\n",
       "      <td>8</td>\n",
       "      <td>1070</td>\n",
       "      <td>230</td>\n",
       "    </tr>\n",
       "    <tr>\n",
       "      <th>8</th>\n",
       "      <td>Montana Hotel</td>\n",
       "      <td>8</td>\n",
       "      <td>1251</td>\n",
       "      <td>179</td>\n",
       "    </tr>\n",
       "    <tr>\n",
       "      <th>9</th>\n",
       "      <td>The Lion &amp; Key Hotel</td>\n",
       "      <td>9</td>\n",
       "      <td>342</td>\n",
       "      <td>94</td>\n",
       "    </tr>\n",
       "  </tbody>\n",
       "</table>\n",
       "</div>"
      ],
      "text/plain": [
       "                                             Hotel  Ratings No_of_Reviews  \\\n",
       "0                          YOTEL London Shoreditch        9           692   \n",
       "1                Cove - Arne Street, Covent Garden        9            60   \n",
       "2  Four Seasons Hotel London at Ten Trinity Square       10           643   \n",
       "3              Threadneedles, Autograph Collection        9          1405   \n",
       "4            Premier Inn London Tower Bridge hotel        9          4252   \n",
       "5                             The Westbridge Hotel        9          2156   \n",
       "6                        The Waldorf Hilton London        8          5957   \n",
       "7                               The Bentley London        8          1070   \n",
       "8                                    Montana Hotel        8          1251   \n",
       "9                             The Lion & Key Hotel        9           342   \n",
       "\n",
       "  Price, €  \n",
       "0      198  \n",
       "1      246  \n",
       "2      847  \n",
       "3      432  \n",
       "4       98  \n",
       "5      188  \n",
       "6      315  \n",
       "7      230  \n",
       "8      179  \n",
       "9       94  "
      ]
     },
     "execution_count": 98,
     "metadata": {},
     "output_type": "execute_result"
    }
   ],
   "source": [
    "df_tripadvisor[:10]"
   ]
  },
  {
   "cell_type": "code",
   "execution_count": null,
   "metadata": {},
   "outputs": [],
   "source": [
    "df_tripadvisor.to_csv(\"tripadvisor_london_list.csv\")"
   ]
  },
  {
   "cell_type": "markdown",
   "metadata": {},
   "source": [
    "## Step 3: Data analysis\n",
    "\n",
    "[[ go back to the top ]](#Table-of-contents)\n",
    "\n",
    "> After having data saved to dataframe in rows and columns, let's do some analysis."
   ]
  },
  {
   "cell_type": "code",
   "execution_count": 5,
   "metadata": {},
   "outputs": [
    {
     "data": {
      "text/html": [
       "<div>\n",
       "<style scoped>\n",
       "    .dataframe tbody tr th:only-of-type {\n",
       "        vertical-align: middle;\n",
       "    }\n",
       "\n",
       "    .dataframe tbody tr th {\n",
       "        vertical-align: top;\n",
       "    }\n",
       "\n",
       "    .dataframe thead th {\n",
       "        text-align: right;\n",
       "    }\n",
       "</style>\n",
       "<table border=\"1\" class=\"dataframe\">\n",
       "  <thead>\n",
       "    <tr style=\"text-align: right;\">\n",
       "      <th></th>\n",
       "      <th>Unnamed: 0</th>\n",
       "      <th>Hotel</th>\n",
       "      <th>Ratings</th>\n",
       "      <th>No_of_Reviews</th>\n",
       "      <th>Price, €</th>\n",
       "    </tr>\n",
       "  </thead>\n",
       "  <tbody>\n",
       "    <tr>\n",
       "      <th>0</th>\n",
       "      <td>0</td>\n",
       "      <td>Fitzrovia Hotel</td>\n",
       "      <td>7.8</td>\n",
       "      <td>2624</td>\n",
       "      <td>221</td>\n",
       "    </tr>\n",
       "    <tr>\n",
       "      <th>1</th>\n",
       "      <td>1</td>\n",
       "      <td>ApartaSuites Emerald</td>\n",
       "      <td>8.2</td>\n",
       "      <td>4</td>\n",
       "      <td>171</td>\n",
       "    </tr>\n",
       "    <tr>\n",
       "      <th>2</th>\n",
       "      <td>2</td>\n",
       "      <td>The Windmill On The Common</td>\n",
       "      <td>8.5</td>\n",
       "      <td>767</td>\n",
       "      <td>146</td>\n",
       "    </tr>\n",
       "    <tr>\n",
       "      <th>3</th>\n",
       "      <td>3</td>\n",
       "      <td>The Kings Arms</td>\n",
       "      <td>9.4</td>\n",
       "      <td>612</td>\n",
       "      <td>204</td>\n",
       "    </tr>\n",
       "    <tr>\n",
       "      <th>4</th>\n",
       "      <td>4</td>\n",
       "      <td>The Tommyfield Hotel</td>\n",
       "      <td>8.6</td>\n",
       "      <td>483</td>\n",
       "      <td>135</td>\n",
       "    </tr>\n",
       "  </tbody>\n",
       "</table>\n",
       "</div>"
      ],
      "text/plain": [
       "   Unnamed: 0                       Hotel  Ratings  No_of_Reviews  Price, €\n",
       "0           0             Fitzrovia Hotel      7.8           2624       221\n",
       "1           1        ApartaSuites Emerald      8.2              4       171\n",
       "2           2  The Windmill On The Common      8.5            767       146\n",
       "3           3              The Kings Arms      9.4            612       204\n",
       "4           4        The Tommyfield Hotel      8.6            483       135"
      ]
     },
     "execution_count": 5,
     "metadata": {},
     "output_type": "execute_result"
    }
   ],
   "source": [
    "booking = pd.read_csv('bookingcom_london_list.csv')\n",
    "booking.head()"
   ]
  },
  {
   "cell_type": "code",
   "execution_count": 6,
   "metadata": {},
   "outputs": [
    {
     "data": {
      "text/html": [
       "<div>\n",
       "<style scoped>\n",
       "    .dataframe tbody tr th:only-of-type {\n",
       "        vertical-align: middle;\n",
       "    }\n",
       "\n",
       "    .dataframe tbody tr th {\n",
       "        vertical-align: top;\n",
       "    }\n",
       "\n",
       "    .dataframe thead th {\n",
       "        text-align: right;\n",
       "    }\n",
       "</style>\n",
       "<table border=\"1\" class=\"dataframe\">\n",
       "  <thead>\n",
       "    <tr style=\"text-align: right;\">\n",
       "      <th></th>\n",
       "      <th>Unnamed: 0</th>\n",
       "      <th>Hotel</th>\n",
       "      <th>Ratings</th>\n",
       "      <th>No_of_Reviews</th>\n",
       "      <th>Price, €</th>\n",
       "    </tr>\n",
       "  </thead>\n",
       "  <tbody>\n",
       "    <tr>\n",
       "      <th>0</th>\n",
       "      <td>0</td>\n",
       "      <td>YOTEL London Shoreditch</td>\n",
       "      <td>9</td>\n",
       "      <td>685</td>\n",
       "      <td>112</td>\n",
       "    </tr>\n",
       "    <tr>\n",
       "      <th>1</th>\n",
       "      <td>1</td>\n",
       "      <td>The Montcalm Royal London House</td>\n",
       "      <td>10</td>\n",
       "      <td>3354</td>\n",
       "      <td>207</td>\n",
       "    </tr>\n",
       "    <tr>\n",
       "      <th>2</th>\n",
       "      <td>2</td>\n",
       "      <td>Park Grand London Hyde Park</td>\n",
       "      <td>8</td>\n",
       "      <td>3362</td>\n",
       "      <td>166</td>\n",
       "    </tr>\n",
       "    <tr>\n",
       "      <th>3</th>\n",
       "      <td>3</td>\n",
       "      <td>The Resident Covent Garden</td>\n",
       "      <td>10</td>\n",
       "      <td>1244</td>\n",
       "      <td>302</td>\n",
       "    </tr>\n",
       "    <tr>\n",
       "      <th>4</th>\n",
       "      <td>4</td>\n",
       "      <td>Park Grand Paddington Court</td>\n",
       "      <td>9</td>\n",
       "      <td>3212</td>\n",
       "      <td>145</td>\n",
       "    </tr>\n",
       "  </tbody>\n",
       "</table>\n",
       "</div>"
      ],
      "text/plain": [
       "   Unnamed: 0                            Hotel  Ratings  No_of_Reviews  \\\n",
       "0           0          YOTEL London Shoreditch        9            685   \n",
       "1           1  The Montcalm Royal London House       10           3354   \n",
       "2           2      Park Grand London Hyde Park        8           3362   \n",
       "3           3       The Resident Covent Garden       10           1244   \n",
       "4           4      Park Grand Paddington Court        9           3212   \n",
       "\n",
       "   Price, €  \n",
       "0       112  \n",
       "1       207  \n",
       "2       166  \n",
       "3       302  \n",
       "4       145  "
      ]
     },
     "execution_count": 6,
     "metadata": {},
     "output_type": "execute_result"
    }
   ],
   "source": [
    "tripadvisor = pd.read_csv('tripadvisor_london_list.csv')\n",
    "tripadvisor.head()"
   ]
  },
  {
   "cell_type": "code",
   "execution_count": 9,
   "metadata": {},
   "outputs": [
    {
     "data": {
      "text/html": [
       "<div>\n",
       "<style scoped>\n",
       "    .dataframe tbody tr th:only-of-type {\n",
       "        vertical-align: middle;\n",
       "    }\n",
       "\n",
       "    .dataframe tbody tr th {\n",
       "        vertical-align: top;\n",
       "    }\n",
       "\n",
       "    .dataframe thead th {\n",
       "        text-align: right;\n",
       "    }\n",
       "</style>\n",
       "<table border=\"1\" class=\"dataframe\">\n",
       "  <thead>\n",
       "    <tr style=\"text-align: right;\">\n",
       "      <th></th>\n",
       "      <th>Popularity</th>\n",
       "      <th>Hotel</th>\n",
       "      <th>Ratings</th>\n",
       "      <th>No_of_Reviews</th>\n",
       "      <th>Price, €</th>\n",
       "      <th>Website</th>\n",
       "    </tr>\n",
       "  </thead>\n",
       "  <tbody>\n",
       "    <tr>\n",
       "      <th>0</th>\n",
       "      <td>1</td>\n",
       "      <td>Fitzrovia Hotel</td>\n",
       "      <td>7.8</td>\n",
       "      <td>2624</td>\n",
       "      <td>221</td>\n",
       "      <td>Booking</td>\n",
       "    </tr>\n",
       "    <tr>\n",
       "      <th>1</th>\n",
       "      <td>2</td>\n",
       "      <td>ApartaSuites Emerald</td>\n",
       "      <td>8.2</td>\n",
       "      <td>4</td>\n",
       "      <td>171</td>\n",
       "      <td>Booking</td>\n",
       "    </tr>\n",
       "    <tr>\n",
       "      <th>2</th>\n",
       "      <td>3</td>\n",
       "      <td>The Windmill On The Common</td>\n",
       "      <td>8.5</td>\n",
       "      <td>767</td>\n",
       "      <td>146</td>\n",
       "      <td>Booking</td>\n",
       "    </tr>\n",
       "    <tr>\n",
       "      <th>3</th>\n",
       "      <td>4</td>\n",
       "      <td>The Kings Arms</td>\n",
       "      <td>9.4</td>\n",
       "      <td>612</td>\n",
       "      <td>204</td>\n",
       "      <td>Booking</td>\n",
       "    </tr>\n",
       "    <tr>\n",
       "      <th>4</th>\n",
       "      <td>5</td>\n",
       "      <td>The Tommyfield Hotel</td>\n",
       "      <td>8.6</td>\n",
       "      <td>483</td>\n",
       "      <td>135</td>\n",
       "      <td>Booking</td>\n",
       "    </tr>\n",
       "  </tbody>\n",
       "</table>\n",
       "</div>"
      ],
      "text/plain": [
       "   Popularity                       Hotel  Ratings  No_of_Reviews  Price, €  \\\n",
       "0           1             Fitzrovia Hotel      7.8           2624       221   \n",
       "1           2        ApartaSuites Emerald      8.2              4       171   \n",
       "2           3  The Windmill On The Common      8.5            767       146   \n",
       "3           4              The Kings Arms      9.4            612       204   \n",
       "4           5        The Tommyfield Hotel      8.6            483       135   \n",
       "\n",
       "   Website  \n",
       "0  Booking  \n",
       "1  Booking  \n",
       "2  Booking  \n",
       "3  Booking  \n",
       "4  Booking  "
      ]
     },
     "execution_count": 9,
     "metadata": {},
     "output_type": "execute_result"
    }
   ],
   "source": [
    "booking.rename(columns = {'Unnamed: 0':'Popularity'}, inplace = True)\n",
    "booking['Popularity'] = booking['Popularity'] + 1\n",
    "booking['Website'] = 'Booking'\n",
    "booking.head()"
   ]
  },
  {
   "cell_type": "code",
   "execution_count": 10,
   "metadata": {},
   "outputs": [
    {
     "data": {
      "text/html": [
       "<div>\n",
       "<style scoped>\n",
       "    .dataframe tbody tr th:only-of-type {\n",
       "        vertical-align: middle;\n",
       "    }\n",
       "\n",
       "    .dataframe tbody tr th {\n",
       "        vertical-align: top;\n",
       "    }\n",
       "\n",
       "    .dataframe thead th {\n",
       "        text-align: right;\n",
       "    }\n",
       "</style>\n",
       "<table border=\"1\" class=\"dataframe\">\n",
       "  <thead>\n",
       "    <tr style=\"text-align: right;\">\n",
       "      <th></th>\n",
       "      <th>Popularity</th>\n",
       "      <th>Hotel</th>\n",
       "      <th>Ratings</th>\n",
       "      <th>No_of_Reviews</th>\n",
       "      <th>Price, €</th>\n",
       "      <th>Website</th>\n",
       "    </tr>\n",
       "  </thead>\n",
       "  <tbody>\n",
       "    <tr>\n",
       "      <th>0</th>\n",
       "      <td>1</td>\n",
       "      <td>YOTEL London Shoreditch</td>\n",
       "      <td>9</td>\n",
       "      <td>685</td>\n",
       "      <td>112</td>\n",
       "      <td>Tripadvisor</td>\n",
       "    </tr>\n",
       "    <tr>\n",
       "      <th>1</th>\n",
       "      <td>2</td>\n",
       "      <td>The Montcalm Royal London House</td>\n",
       "      <td>10</td>\n",
       "      <td>3354</td>\n",
       "      <td>207</td>\n",
       "      <td>Tripadvisor</td>\n",
       "    </tr>\n",
       "    <tr>\n",
       "      <th>2</th>\n",
       "      <td>3</td>\n",
       "      <td>Park Grand London Hyde Park</td>\n",
       "      <td>8</td>\n",
       "      <td>3362</td>\n",
       "      <td>166</td>\n",
       "      <td>Tripadvisor</td>\n",
       "    </tr>\n",
       "    <tr>\n",
       "      <th>3</th>\n",
       "      <td>4</td>\n",
       "      <td>The Resident Covent Garden</td>\n",
       "      <td>10</td>\n",
       "      <td>1244</td>\n",
       "      <td>302</td>\n",
       "      <td>Tripadvisor</td>\n",
       "    </tr>\n",
       "    <tr>\n",
       "      <th>4</th>\n",
       "      <td>5</td>\n",
       "      <td>Park Grand Paddington Court</td>\n",
       "      <td>9</td>\n",
       "      <td>3212</td>\n",
       "      <td>145</td>\n",
       "      <td>Tripadvisor</td>\n",
       "    </tr>\n",
       "  </tbody>\n",
       "</table>\n",
       "</div>"
      ],
      "text/plain": [
       "   Popularity                            Hotel  Ratings  No_of_Reviews  \\\n",
       "0           1          YOTEL London Shoreditch        9            685   \n",
       "1           2  The Montcalm Royal London House       10           3354   \n",
       "2           3      Park Grand London Hyde Park        8           3362   \n",
       "3           4       The Resident Covent Garden       10           1244   \n",
       "4           5      Park Grand Paddington Court        9           3212   \n",
       "\n",
       "   Price, €      Website  \n",
       "0       112  Tripadvisor  \n",
       "1       207  Tripadvisor  \n",
       "2       166  Tripadvisor  \n",
       "3       302  Tripadvisor  \n",
       "4       145  Tripadvisor  "
      ]
     },
     "execution_count": 10,
     "metadata": {},
     "output_type": "execute_result"
    }
   ],
   "source": [
    "tripadvisor.rename(columns = {'Unnamed: 0':'Popularity'}, inplace = True)\n",
    "tripadvisor['Popularity'] = tripadvisor['Popularity'] + 1\n",
    "tripadvisor['Website'] = 'Tripadvisor'\n",
    "tripadvisor.head()"
   ]
  },
  {
   "cell_type": "markdown",
   "metadata": {},
   "source": [
    "> Making both DataFrames the same size:"
   ]
  },
  {
   "cell_type": "code",
   "execution_count": 11,
   "metadata": {},
   "outputs": [
    {
     "data": {
      "text/plain": [
       "((25, 6), (34, 6))"
      ]
     },
     "execution_count": 11,
     "metadata": {},
     "output_type": "execute_result"
    }
   ],
   "source": [
    "booking.shape, tripadvisor.shape"
   ]
  },
  {
   "cell_type": "code",
   "execution_count": 12,
   "metadata": {},
   "outputs": [
    {
     "data": {
      "text/html": [
       "<div>\n",
       "<style scoped>\n",
       "    .dataframe tbody tr th:only-of-type {\n",
       "        vertical-align: middle;\n",
       "    }\n",
       "\n",
       "    .dataframe tbody tr th {\n",
       "        vertical-align: top;\n",
       "    }\n",
       "\n",
       "    .dataframe thead th {\n",
       "        text-align: right;\n",
       "    }\n",
       "</style>\n",
       "<table border=\"1\" class=\"dataframe\">\n",
       "  <thead>\n",
       "    <tr style=\"text-align: right;\">\n",
       "      <th></th>\n",
       "      <th>Popularity</th>\n",
       "      <th>Hotel</th>\n",
       "      <th>Ratings</th>\n",
       "      <th>No_of_Reviews</th>\n",
       "      <th>Price, €</th>\n",
       "      <th>Website</th>\n",
       "    </tr>\n",
       "  </thead>\n",
       "  <tbody>\n",
       "    <tr>\n",
       "      <th>20</th>\n",
       "      <td>21</td>\n",
       "      <td>The Montague on The Gardens</td>\n",
       "      <td>10</td>\n",
       "      <td>5449</td>\n",
       "      <td>347</td>\n",
       "      <td>Tripadvisor</td>\n",
       "    </tr>\n",
       "    <tr>\n",
       "      <th>21</th>\n",
       "      <td>22</td>\n",
       "      <td>The Standard, London</td>\n",
       "      <td>9</td>\n",
       "      <td>495</td>\n",
       "      <td>306</td>\n",
       "      <td>Tripadvisor</td>\n",
       "    </tr>\n",
       "    <tr>\n",
       "      <th>22</th>\n",
       "      <td>23</td>\n",
       "      <td>Millennium Gloucester Hotel London Kensington</td>\n",
       "      <td>8</td>\n",
       "      <td>6715</td>\n",
       "      <td>137</td>\n",
       "      <td>Tripadvisor</td>\n",
       "    </tr>\n",
       "    <tr>\n",
       "      <th>23</th>\n",
       "      <td>24</td>\n",
       "      <td>The Resident Kensington</td>\n",
       "      <td>9</td>\n",
       "      <td>4753</td>\n",
       "      <td>194</td>\n",
       "      <td>Tripadvisor</td>\n",
       "    </tr>\n",
       "    <tr>\n",
       "      <th>24</th>\n",
       "      <td>25</td>\n",
       "      <td>Travelodge London Manor House</td>\n",
       "      <td>9</td>\n",
       "      <td>264</td>\n",
       "      <td>96</td>\n",
       "      <td>Tripadvisor</td>\n",
       "    </tr>\n",
       "  </tbody>\n",
       "</table>\n",
       "</div>"
      ],
      "text/plain": [
       "    Popularity                                          Hotel  Ratings  \\\n",
       "20          21                    The Montague on The Gardens       10   \n",
       "21          22                           The Standard, London        9   \n",
       "22          23  Millennium Gloucester Hotel London Kensington        8   \n",
       "23          24                        The Resident Kensington        9   \n",
       "24          25                  Travelodge London Manor House        9   \n",
       "\n",
       "    No_of_Reviews  Price, €      Website  \n",
       "20           5449       347  Tripadvisor  \n",
       "21            495       306  Tripadvisor  \n",
       "22           6715       137  Tripadvisor  \n",
       "23           4753       194  Tripadvisor  \n",
       "24            264        96  Tripadvisor  "
      ]
     },
     "execution_count": 12,
     "metadata": {},
     "output_type": "execute_result"
    }
   ],
   "source": [
    "tripadvisor = tripadvisor.iloc[:len(booking)]\n",
    "tripadvisor.tail()"
   ]
  },
  {
   "cell_type": "code",
   "execution_count": 13,
   "metadata": {},
   "outputs": [
    {
     "data": {
      "text/plain": [
       "((25, 6), (25, 6))"
      ]
     },
     "execution_count": 13,
     "metadata": {},
     "output_type": "execute_result"
    }
   ],
   "source": [
    "booking.shape, tripadvisor.shape"
   ]
  },
  {
   "cell_type": "markdown",
   "metadata": {},
   "source": [
    "> Concatenating (merging) both DataFrames into one by appending rows:"
   ]
  },
  {
   "cell_type": "code",
   "execution_count": 14,
   "metadata": {},
   "outputs": [
    {
     "data": {
      "text/html": [
       "<div>\n",
       "<style scoped>\n",
       "    .dataframe tbody tr th:only-of-type {\n",
       "        vertical-align: middle;\n",
       "    }\n",
       "\n",
       "    .dataframe tbody tr th {\n",
       "        vertical-align: top;\n",
       "    }\n",
       "\n",
       "    .dataframe thead th {\n",
       "        text-align: right;\n",
       "    }\n",
       "</style>\n",
       "<table border=\"1\" class=\"dataframe\">\n",
       "  <thead>\n",
       "    <tr style=\"text-align: right;\">\n",
       "      <th></th>\n",
       "      <th>Popularity</th>\n",
       "      <th>Hotel</th>\n",
       "      <th>Ratings</th>\n",
       "      <th>No_of_Reviews</th>\n",
       "      <th>Price, €</th>\n",
       "      <th>Website</th>\n",
       "    </tr>\n",
       "  </thead>\n",
       "  <tbody>\n",
       "    <tr>\n",
       "      <th>0</th>\n",
       "      <td>1</td>\n",
       "      <td>Fitzrovia Hotel</td>\n",
       "      <td>7.8</td>\n",
       "      <td>2624</td>\n",
       "      <td>221</td>\n",
       "      <td>Booking</td>\n",
       "    </tr>\n",
       "    <tr>\n",
       "      <th>1</th>\n",
       "      <td>2</td>\n",
       "      <td>ApartaSuites Emerald</td>\n",
       "      <td>8.2</td>\n",
       "      <td>4</td>\n",
       "      <td>171</td>\n",
       "      <td>Booking</td>\n",
       "    </tr>\n",
       "    <tr>\n",
       "      <th>2</th>\n",
       "      <td>3</td>\n",
       "      <td>The Windmill On The Common</td>\n",
       "      <td>8.5</td>\n",
       "      <td>767</td>\n",
       "      <td>146</td>\n",
       "      <td>Booking</td>\n",
       "    </tr>\n",
       "    <tr>\n",
       "      <th>3</th>\n",
       "      <td>4</td>\n",
       "      <td>The Kings Arms</td>\n",
       "      <td>9.4</td>\n",
       "      <td>612</td>\n",
       "      <td>204</td>\n",
       "      <td>Booking</td>\n",
       "    </tr>\n",
       "    <tr>\n",
       "      <th>4</th>\n",
       "      <td>5</td>\n",
       "      <td>The Tommyfield Hotel</td>\n",
       "      <td>8.6</td>\n",
       "      <td>483</td>\n",
       "      <td>135</td>\n",
       "      <td>Booking</td>\n",
       "    </tr>\n",
       "  </tbody>\n",
       "</table>\n",
       "</div>"
      ],
      "text/plain": [
       "   Popularity                       Hotel  Ratings  No_of_Reviews  Price, €  \\\n",
       "0           1             Fitzrovia Hotel      7.8           2624       221   \n",
       "1           2        ApartaSuites Emerald      8.2              4       171   \n",
       "2           3  The Windmill On The Common      8.5            767       146   \n",
       "3           4              The Kings Arms      9.4            612       204   \n",
       "4           5        The Tommyfield Hotel      8.6            483       135   \n",
       "\n",
       "   Website  \n",
       "0  Booking  \n",
       "1  Booking  \n",
       "2  Booking  \n",
       "3  Booking  \n",
       "4  Booking  "
      ]
     },
     "execution_count": 14,
     "metadata": {},
     "output_type": "execute_result"
    }
   ],
   "source": [
    "merged_hotels = pd.concat([booking, tripadvisor])\n",
    "merged_hotels.head()"
   ]
  },
  {
   "cell_type": "markdown",
   "metadata": {},
   "source": [
    "> Checking how many unique hotel names are in the merged DataFrame.\n",
    "This way we can check whether there are any hotels that are in both websites."
   ]
  },
  {
   "cell_type": "code",
   "execution_count": 15,
   "metadata": {},
   "outputs": [
    {
     "data": {
      "text/plain": [
       "(50, (50, 6))"
      ]
     },
     "execution_count": 15,
     "metadata": {},
     "output_type": "execute_result"
    }
   ],
   "source": [
    "merged_hotels.Hotel.nunique(), merged_hotels.shape"
   ]
  },
  {
   "cell_type": "markdown",
   "metadata": {},
   "source": [
    "> Statistics (min, max, mean) of the 'Price €', 'Ratings' and 'No_of_Reviews' columns:"
   ]
  },
  {
   "cell_type": "code",
   "execution_count": 16,
   "metadata": {},
   "outputs": [
    {
     "name": "stderr",
     "output_type": "stream",
     "text": [
      "C:\\Users\\ievaz\\AppData\\Local\\Temp\\ipykernel_25136\\2906276633.py:2: FutureWarning: Indexing with multiple keys (implicitly converted to a tuple of keys) will be deprecated, use a list instead.\n",
      "  summary_table = merged_hotels.groupby(['Website'])['Price, €', 'Ratings', 'No_of_Reviews'].agg(['min', 'max', 'mean'])\n"
     ]
    },
    {
     "data": {
      "text/html": [
       "<div>\n",
       "<style scoped>\n",
       "    .dataframe tbody tr th:only-of-type {\n",
       "        vertical-align: middle;\n",
       "    }\n",
       "\n",
       "    .dataframe tbody tr th {\n",
       "        vertical-align: top;\n",
       "    }\n",
       "\n",
       "    .dataframe thead tr th {\n",
       "        text-align: left;\n",
       "    }\n",
       "\n",
       "    .dataframe thead tr:last-of-type th {\n",
       "        text-align: right;\n",
       "    }\n",
       "</style>\n",
       "<table border=\"1\" class=\"dataframe\">\n",
       "  <thead>\n",
       "    <tr>\n",
       "      <th></th>\n",
       "      <th colspan=\"3\" halign=\"left\">Price, €</th>\n",
       "      <th colspan=\"3\" halign=\"left\">Ratings</th>\n",
       "      <th colspan=\"3\" halign=\"left\">No_of_Reviews</th>\n",
       "    </tr>\n",
       "    <tr>\n",
       "      <th></th>\n",
       "      <th>min</th>\n",
       "      <th>max</th>\n",
       "      <th>mean</th>\n",
       "      <th>min</th>\n",
       "      <th>max</th>\n",
       "      <th>mean</th>\n",
       "      <th>min</th>\n",
       "      <th>max</th>\n",
       "      <th>mean</th>\n",
       "    </tr>\n",
       "    <tr>\n",
       "      <th>Website</th>\n",
       "      <th></th>\n",
       "      <th></th>\n",
       "      <th></th>\n",
       "      <th></th>\n",
       "      <th></th>\n",
       "      <th></th>\n",
       "      <th></th>\n",
       "      <th></th>\n",
       "      <th></th>\n",
       "    </tr>\n",
       "  </thead>\n",
       "  <tbody>\n",
       "    <tr>\n",
       "      <th>Booking</th>\n",
       "      <td>79</td>\n",
       "      <td>221</td>\n",
       "      <td>137.32</td>\n",
       "      <td>6.20</td>\n",
       "      <td>9.40</td>\n",
       "      <td>7.73</td>\n",
       "      <td>4</td>\n",
       "      <td>2624</td>\n",
       "      <td>757.88</td>\n",
       "    </tr>\n",
       "    <tr>\n",
       "      <th>Tripadvisor</th>\n",
       "      <td>59</td>\n",
       "      <td>930</td>\n",
       "      <td>236.72</td>\n",
       "      <td>6.00</td>\n",
       "      <td>10.00</td>\n",
       "      <td>8.76</td>\n",
       "      <td>173</td>\n",
       "      <td>23721</td>\n",
       "      <td>4,135.44</td>\n",
       "    </tr>\n",
       "  </tbody>\n",
       "</table>\n",
       "</div>"
      ],
      "text/plain": [
       "            Price, €             Ratings            No_of_Reviews         \\\n",
       "                 min  max   mean     min   max mean           min    max   \n",
       "Website                                                                    \n",
       "Booking           79  221 137.32    6.20  9.40 7.73             4   2624   \n",
       "Tripadvisor       59  930 236.72    6.00 10.00 8.76           173  23721   \n",
       "\n",
       "                      \n",
       "                mean  \n",
       "Website               \n",
       "Booking       757.88  \n",
       "Tripadvisor 4,135.44  "
      ]
     },
     "execution_count": 16,
     "metadata": {},
     "output_type": "execute_result"
    }
   ],
   "source": [
    "pd.set_option('display.float_format', '{:,.2f}'.format)\n",
    "summary_table = merged_hotels.groupby(['Website'])['Price, €', 'Ratings', 'No_of_Reviews'].agg(['min', 'max', 'mean'])\n",
    "summary_table"
   ]
  },
  {
   "cell_type": "markdown",
   "metadata": {},
   "source": [
    "## Step 4: Plotting the data\n",
    "\n",
    "[[ go back to the top ]](#Table-of-contents)\n",
    "\n",
    "> First, plotting pairwise relationships in the dataset to get a general idea:"
   ]
  },
  {
   "cell_type": "code",
   "execution_count": 17,
   "metadata": {},
   "outputs": [
    {
     "data": {
      "text/plain": [
       "<seaborn.axisgrid.PairGrid at 0x2acb487fb80>"
      ]
     },
     "execution_count": 17,
     "metadata": {},
     "output_type": "execute_result"
    },
    {
     "data": {
      "image/png": "[encoded data removed]",
      "text/plain": [
       "<Figure size 1326x1200 with 20 Axes>"
      ]
     },
     "metadata": {},
     "output_type": "display_data"
    }
   ],
   "source": [
    "sns.pairplot(merged_hotels, hue='Website', height=3, palette='mako', markers=['o', 's'])"
   ]
  },
  {
   "cell_type": "markdown",
   "metadata": {},
   "source": [
    "> Comparing Price vs Popularity:"
   ]
  },
  {
   "cell_type": "code",
   "execution_count": 18,
   "metadata": {},
   "outputs": [
    {
     "data": {
      "text/plain": [
       "[Text(0.5, 1.0, 'Price depending on popularity')]"
      ]
     },
     "execution_count": 18,
     "metadata": {},
     "output_type": "execute_result"
    },
    {
     "data": {
      "image/png": "[encoded data removed]",
      "text/plain": [
       "<Figure size 1200x450 with 1 Axes>"
      ]
     },
     "metadata": {},
     "output_type": "display_data"
    }
   ],
   "source": [
    "fig, ax = plt.subplots(figsize=(12, 4.5))\n",
    "sns.barplot(data=merged_hotels, x='Popularity', y='Price, €', hue='Website', ax=ax, palette='magma')\n",
    "ax.set(title='Price depending on popularity')"
   ]
  },
  {
   "cell_type": "markdown",
   "metadata": {},
   "source": [
    "> Comparing Price vs Ratings:"
   ]
  },
  {
   "cell_type": "code",
   "execution_count": 19,
   "metadata": {},
   "outputs": [
    {
     "data": {
      "text/plain": [
       "[Text(0.5, 1.0, 'Relation between prices and ratings')]"
      ]
     },
     "execution_count": 19,
     "metadata": {},
     "output_type": "execute_result"
    },
    {
     "data": {
      "image/png": "[encoded data removed]",
      "text/plain": [
       "<Figure size 1000x450 with 1 Axes>"
      ]
     },
     "metadata": {},
     "output_type": "display_data"
    }
   ],
   "source": [
    "fig, ax = plt.subplots(figsize=(10, 4.5))\n",
    "sns.scatterplot(data=merged_hotels, x='Ratings', y='Price, €', hue='Website', palette='viridis')\n",
    "ax.set(title='Relation between prices and ratings')"
   ]
  },
  {
   "cell_type": "markdown",
   "metadata": {},
   "source": [
    "> Overall 10 cheapest hotels from both websites:"
   ]
  },
  {
   "cell_type": "code",
   "execution_count": 20,
   "metadata": {},
   "outputs": [
    {
     "data": {
      "text/html": [
       "<div>\n",
       "<style scoped>\n",
       "    .dataframe tbody tr th:only-of-type {\n",
       "        vertical-align: middle;\n",
       "    }\n",
       "\n",
       "    .dataframe tbody tr th {\n",
       "        vertical-align: top;\n",
       "    }\n",
       "\n",
       "    .dataframe thead th {\n",
       "        text-align: right;\n",
       "    }\n",
       "</style>\n",
       "<table border=\"1\" class=\"dataframe\">\n",
       "  <thead>\n",
       "    <tr style=\"text-align: right;\">\n",
       "      <th></th>\n",
       "      <th>Popularity</th>\n",
       "      <th>Hotel</th>\n",
       "      <th>Ratings</th>\n",
       "      <th>No_of_Reviews</th>\n",
       "      <th>Price, €</th>\n",
       "      <th>Website</th>\n",
       "    </tr>\n",
       "  </thead>\n",
       "  <tbody>\n",
       "    <tr>\n",
       "      <th>0</th>\n",
       "      <td>6</td>\n",
       "      <td>Travelodge London City hotel</td>\n",
       "      <td>9.00</td>\n",
       "      <td>2378</td>\n",
       "      <td>59</td>\n",
       "      <td>Tripadvisor</td>\n",
       "    </tr>\n",
       "    <tr>\n",
       "      <th>1</th>\n",
       "      <td>20</td>\n",
       "      <td>Travelodge London Central City Road</td>\n",
       "      <td>8.00</td>\n",
       "      <td>2198</td>\n",
       "      <td>65</td>\n",
       "      <td>Tripadvisor</td>\n",
       "    </tr>\n",
       "    <tr>\n",
       "      <th>2</th>\n",
       "      <td>14</td>\n",
       "      <td>Travelodge London Docklands Central</td>\n",
       "      <td>8.00</td>\n",
       "      <td>576</td>\n",
       "      <td>74</td>\n",
       "      <td>Tripadvisor</td>\n",
       "    </tr>\n",
       "    <tr>\n",
       "      <th>3</th>\n",
       "      <td>8</td>\n",
       "      <td>Haven Hotel</td>\n",
       "      <td>7.00</td>\n",
       "      <td>784</td>\n",
       "      <td>79</td>\n",
       "      <td>Booking</td>\n",
       "    </tr>\n",
       "    <tr>\n",
       "      <th>4</th>\n",
       "      <td>22</td>\n",
       "      <td>Tony's House Hotel</td>\n",
       "      <td>6.30</td>\n",
       "      <td>684</td>\n",
       "      <td>80</td>\n",
       "      <td>Booking</td>\n",
       "    </tr>\n",
       "    <tr>\n",
       "      <th>5</th>\n",
       "      <td>9</td>\n",
       "      <td>Assaha Hyde Park Apartments</td>\n",
       "      <td>6.90</td>\n",
       "      <td>1298</td>\n",
       "      <td>83</td>\n",
       "      <td>Booking</td>\n",
       "    </tr>\n",
       "    <tr>\n",
       "      <th>6</th>\n",
       "      <td>25</td>\n",
       "      <td>Travelodge London Manor House</td>\n",
       "      <td>9.00</td>\n",
       "      <td>264</td>\n",
       "      <td>96</td>\n",
       "      <td>Tripadvisor</td>\n",
       "    </tr>\n",
       "    <tr>\n",
       "      <th>7</th>\n",
       "      <td>17</td>\n",
       "      <td>Holiday Inn London - West</td>\n",
       "      <td>9.00</td>\n",
       "      <td>1281</td>\n",
       "      <td>99</td>\n",
       "      <td>Tripadvisor</td>\n",
       "    </tr>\n",
       "    <tr>\n",
       "      <th>8</th>\n",
       "      <td>11</td>\n",
       "      <td>Chelsea House Hotel - B&amp;B</td>\n",
       "      <td>7.70</td>\n",
       "      <td>1492</td>\n",
       "      <td>111</td>\n",
       "      <td>Booking</td>\n",
       "    </tr>\n",
       "    <tr>\n",
       "      <th>9</th>\n",
       "      <td>10</td>\n",
       "      <td>The Tudor Inn Hotel</td>\n",
       "      <td>6.60</td>\n",
       "      <td>783</td>\n",
       "      <td>112</td>\n",
       "      <td>Booking</td>\n",
       "    </tr>\n",
       "  </tbody>\n",
       "</table>\n",
       "</div>"
      ],
      "text/plain": [
       "   Popularity                                Hotel  Ratings  No_of_Reviews  \\\n",
       "0           6         Travelodge London City hotel     9.00           2378   \n",
       "1          20  Travelodge London Central City Road     8.00           2198   \n",
       "2          14  Travelodge London Docklands Central     8.00            576   \n",
       "3           8                          Haven Hotel     7.00            784   \n",
       "4          22                   Tony's House Hotel     6.30            684   \n",
       "5           9          Assaha Hyde Park Apartments     6.90           1298   \n",
       "6          25        Travelodge London Manor House     9.00            264   \n",
       "7          17            Holiday Inn London - West     9.00           1281   \n",
       "8          11            Chelsea House Hotel - B&B     7.70           1492   \n",
       "9          10                  The Tudor Inn Hotel     6.60            783   \n",
       "\n",
       "   Price, €      Website  \n",
       "0        59  Tripadvisor  \n",
       "1        65  Tripadvisor  \n",
       "2        74  Tripadvisor  \n",
       "3        79      Booking  \n",
       "4        80      Booking  \n",
       "5        83      Booking  \n",
       "6        96  Tripadvisor  \n",
       "7        99  Tripadvisor  \n",
       "8       111      Booking  \n",
       "9       112      Booking  "
      ]
     },
     "execution_count": 20,
     "metadata": {},
     "output_type": "execute_result"
    }
   ],
   "source": [
    "best_price = merged_hotels.sort_values(by=['Price, €', 'Ratings'], ignore_index=True).iloc[:10]\n",
    "best_price"
   ]
  },
  {
   "cell_type": "code",
   "execution_count": 21,
   "metadata": {},
   "outputs": [
    {
     "data": {
      "text/plain": [
       "[Text(0, 0, 'Travelodge London City hotel'),\n",
       " Text(1, 0, 'Travelodge London Central City Road'),\n",
       " Text(2, 0, 'Travelodge London Docklands Central'),\n",
       " Text(3, 0, 'Haven Hotel'),\n",
       " Text(4, 0, \"Tony's House Hotel\"),\n",
       " Text(5, 0, 'Assaha Hyde Park Apartments'),\n",
       " Text(6, 0, 'Travelodge London Manor House'),\n",
       " Text(7, 0, 'Holiday Inn London - West'),\n",
       " Text(8, 0, 'Chelsea House Hotel - B&B'),\n",
       " Text(9, 0, 'The Tudor Inn Hotel')]"
      ]
     },
     "execution_count": 21,
     "metadata": {},
     "output_type": "execute_result"
    },
    {
     "data": {
      "image/png": "[encoded data removed]",
      "text/plain": [
       "<Figure size 800x400 with 1 Axes>"
      ]
     },
     "metadata": {},
     "output_type": "display_data"
    }
   ],
   "source": [
    "fig, ax = plt.subplots(figsize=(8, 4))\n",
    "sns.set_style('darkgrid')\n",
    "sns.barplot(data=best_price, x='Hotel', y='Price, €', hue='Website', ax=ax, palette='magma')\n",
    "ax.set(title='Top 10 overall best prices')\n",
    "ax.set_xticklabels(labels=best_price['Hotel'], rotation=90)"
   ]
  }
 ],
 "metadata": {
  "kernelspec": {
   "display_name": "Python 3.10.7 ('venv': venv)",
   "language": "python",
   "name": "python3"
  },
  "language_info": {
   "codemirror_mode": {
    "name": "ipython",
    "version": 3
   },
   "file_extension": ".py",
   "mimetype": "text/x-python",
   "name": "python",
   "nbconvert_exporter": "python",
   "pygments_lexer": "ipython3",
   "version": "3.10.7"
  },
  "orig_nbformat": 4,
  "vscode": {
   "interpreter": {
    "hash": "091e761e24fe66127ae47ddf3a06416362435e5d36a38a0dbf072a96138123f1"
   }
  }
 },
 "nbformat": 4,
 "nbformat_minor": 2
}
