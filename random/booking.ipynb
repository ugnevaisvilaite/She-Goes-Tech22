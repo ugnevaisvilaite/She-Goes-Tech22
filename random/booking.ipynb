{
 "cells": [
  {
   "cell_type": "markdown",
   "metadata": {},
   "source": [
    "# Web Scraping\n",
    "# To do:\n",
    "* Load booking.com and tripadvisor.com pages\n",
    "* in search line insert city, date and number of people (It can be London, December 05-11th)\n",
    "* search factors can differ according to page (tripadvisor might need room number)\n",
    "* by default hotels are persented by popularity, so let's just take first 10, 15 or 20 and upload when to dataframe table\n",
    "* table consist of: hotel name, price, rating, (can be number of reviews or smth else)\n",
    "\n",
    "* After having two separate tables, maybe make one table if popular hotels are on both sites and when do comparison\n",
    "* how many hotels are popular on both sites\n",
    "* How prices differ on the sites (maybe make some graph)\n",
    "* how ratings differ\n"
   ]
  },
  {
   "cell_type": "code",
   "execution_count": 1,
   "metadata": {},
   "outputs": [],
   "source": [
    "from selenium import webdriver\n",
    "from selenium.webdriver.common.keys import Keys\n",
    "from selenium.webdriver.common.by import By\n",
    "\n",
    "import pandas as pd\n",
    "from bs4 import BeautifulSoup"
   ]
  },
  {
   "cell_type": "code",
   "execution_count": 43,
   "metadata": {},
   "outputs": [],
   "source": [
    "browser=webdriver.Chrome()"
   ]
  },
  {
   "cell_type": "code",
   "execution_count": 44,
   "metadata": {},
   "outputs": [],
   "source": [
    "browser.get('https://www.booking.com/searchresults.en-gb.html?label=bdot-XGHtb6WmOO*p7F20iH0qAQS502680093291%3Apl%3Ata%3Ap1%3Ap22%2C563%2C000%3Aac%3Aap%3Aneg%3Afi%3Atikwd-334108349%3Alp9062284%3Ali%3Adec%3Adm%3Appccp%3DUmFuZG9tSVYkc2RlIyh9YURcq_26dhSxUhbJ5aqVAAw&sid=eb93d36ee0aab94ec431519ad05b54f1&aid=376444&ss=London&ssne=London&ssne_untouched=London&efdco=1&lang=en-gb&src=searchresults&dest_id=-2601889&dest_type=city&checkin=2023-02-09&checkout=2023-02-10&group_adults=2&no_rooms=1&group_children=0&sb_travel_purpose=leisure&nflt=review_score%3D60%3Breview_score%3D90%3Breview_score%3D70%3Breview_score%3D80')"
   ]
  },
  {
   "cell_type": "code",
   "execution_count": 45,
   "metadata": {},
   "outputs": [],
   "source": [
    "accept = browser.find_element(By.ID, \"onetrust-accept-btn-handler\")\n",
    "accept.click()"
   ]
  },
  {
   "cell_type": "code",
   "execution_count": 46,
   "metadata": {},
   "outputs": [],
   "source": [
    "soup = BeautifulSoup(browser.page_source, 'lxml')"
   ]
  },
  {
   "cell_type": "code",
   "execution_count": 47,
   "metadata": {},
   "outputs": [
    {
     "data": {
      "text/plain": [
       "25"
      ]
     },
     "execution_count": 47,
     "metadata": {},
     "output_type": "execute_result"
    }
   ],
   "source": [
    "hotels = []\n",
    "for name in soup.findAll('div',{'data-testid':'title'}):\n",
    "  hotels.append(name.text.strip())\n",
    "hotels[:5]\n",
    "len(hotels)"
   ]
  },
  {
   "cell_type": "code",
   "execution_count": 48,
   "metadata": {},
   "outputs": [
    {
     "data": {
      "text/plain": [
       "25"
      ]
     },
     "execution_count": 48,
     "metadata": {},
     "output_type": "execute_result"
    }
   ],
   "source": [
    "ratings = []\n",
    "for rating in soup.findAll('div',{'class':'d10a6220b4'}):\n",
    "      ratings.append(rating.text.strip())\n",
    "len(ratings)\n"
   ]
  },
  {
   "cell_type": "code",
   "execution_count": 49,
   "metadata": {},
   "outputs": [
    {
     "data": {
      "text/plain": [
       "25"
      ]
     },
     "execution_count": 49,
     "metadata": {},
     "output_type": "execute_result"
    }
   ],
   "source": [
    "reviews = []\n",
    "for review in soup.findAll('div',{'class':'db63693c62'}):\n",
    "  reviews.append(review.text.replace('reviews','').replace(',','').strip())\n",
    "reviews[:5]\n",
    "len(reviews)\n"
   ]
  },
  {
   "cell_type": "code",
   "execution_count": 50,
   "metadata": {},
   "outputs": [
    {
     "data": {
      "text/plain": [
       "25"
      ]
     },
     "execution_count": 50,
     "metadata": {},
     "output_type": "execute_result"
    }
   ],
   "source": [
    "price = []\n",
    "for p in soup.findAll('span',{'class':['fbd1d3018c', 'bd73d13072']}):\n",
    "  price.append(p.text.replace('€','').replace(',','').strip()) \n",
    "price[:5]\n",
    "len(price)\n"
   ]
  },
  {
   "cell_type": "code",
   "execution_count": 51,
   "metadata": {},
   "outputs": [],
   "source": [
    "d1 = {'Hotel':hotels,'Ratings':ratings,'No_of_Reviews':reviews,'Price, €':price}\n",
    "df = pd.DataFrame.from_dict(d1)"
   ]
  },
  {
   "cell_type": "code",
   "execution_count": 52,
   "metadata": {},
   "outputs": [
    {
     "data": {
      "text/html": [
       "<div>\n",
       "<style scoped>\n",
       "    .dataframe tbody tr th:only-of-type {\n",
       "        vertical-align: middle;\n",
       "    }\n",
       "\n",
       "    .dataframe tbody tr th {\n",
       "        vertical-align: top;\n",
       "    }\n",
       "\n",
       "    .dataframe thead th {\n",
       "        text-align: right;\n",
       "    }\n",
       "</style>\n",
       "<table border=\"1\" class=\"dataframe\">\n",
       "  <thead>\n",
       "    <tr style=\"text-align: right;\">\n",
       "      <th></th>\n",
       "      <th>Hotel</th>\n",
       "      <th>Ratings</th>\n",
       "      <th>No_of_Reviews</th>\n",
       "      <th>Price, €</th>\n",
       "    </tr>\n",
       "  </thead>\n",
       "  <tbody>\n",
       "    <tr>\n",
       "      <th>0</th>\n",
       "      <td>Fitzrovia Hotel</td>\n",
       "      <td>7.8</td>\n",
       "      <td>2624</td>\n",
       "      <td>221</td>\n",
       "    </tr>\n",
       "    <tr>\n",
       "      <th>1</th>\n",
       "      <td>ApartaSuites Emerald</td>\n",
       "      <td>8.2</td>\n",
       "      <td>4</td>\n",
       "      <td>171</td>\n",
       "    </tr>\n",
       "    <tr>\n",
       "      <th>2</th>\n",
       "      <td>The Windmill On The Common</td>\n",
       "      <td>8.5</td>\n",
       "      <td>767</td>\n",
       "      <td>146</td>\n",
       "    </tr>\n",
       "    <tr>\n",
       "      <th>3</th>\n",
       "      <td>The Kings Arms</td>\n",
       "      <td>9.4</td>\n",
       "      <td>612</td>\n",
       "      <td>204</td>\n",
       "    </tr>\n",
       "    <tr>\n",
       "      <th>4</th>\n",
       "      <td>The Tommyfield Hotel</td>\n",
       "      <td>8.6</td>\n",
       "      <td>483</td>\n",
       "      <td>135</td>\n",
       "    </tr>\n",
       "    <tr>\n",
       "      <th>5</th>\n",
       "      <td>Innbox Hotel St. Johns Wood</td>\n",
       "      <td>7.0</td>\n",
       "      <td>35</td>\n",
       "      <td>181</td>\n",
       "    </tr>\n",
       "    <tr>\n",
       "      <th>6</th>\n",
       "      <td>Lancaster Hall Hotel</td>\n",
       "      <td>7.9</td>\n",
       "      <td>1050</td>\n",
       "      <td>133</td>\n",
       "    </tr>\n",
       "    <tr>\n",
       "      <th>7</th>\n",
       "      <td>Haven Hotel</td>\n",
       "      <td>7.0</td>\n",
       "      <td>784</td>\n",
       "      <td>79</td>\n",
       "    </tr>\n",
       "    <tr>\n",
       "      <th>8</th>\n",
       "      <td>Assaha Hyde Park Apartments</td>\n",
       "      <td>6.9</td>\n",
       "      <td>1298</td>\n",
       "      <td>83</td>\n",
       "    </tr>\n",
       "    <tr>\n",
       "      <th>9</th>\n",
       "      <td>The Tudor Inn Hotel</td>\n",
       "      <td>6.6</td>\n",
       "      <td>783</td>\n",
       "      <td>112</td>\n",
       "    </tr>\n",
       "    <tr>\n",
       "      <th>10</th>\n",
       "      <td>Chelsea House Hotel - B&amp;B</td>\n",
       "      <td>7.7</td>\n",
       "      <td>1492</td>\n",
       "      <td>111</td>\n",
       "    </tr>\n",
       "    <tr>\n",
       "      <th>11</th>\n",
       "      <td>The Darlington Hyde Park</td>\n",
       "      <td>8.2</td>\n",
       "      <td>696</td>\n",
       "      <td>159</td>\n",
       "    </tr>\n",
       "    <tr>\n",
       "      <th>12</th>\n",
       "      <td>Coach &amp; Horses Hotel</td>\n",
       "      <td>8.8</td>\n",
       "      <td>769</td>\n",
       "      <td>142</td>\n",
       "    </tr>\n",
       "    <tr>\n",
       "      <th>13</th>\n",
       "      <td>My Place Hotel</td>\n",
       "      <td>6.2</td>\n",
       "      <td>533</td>\n",
       "      <td>118</td>\n",
       "    </tr>\n",
       "    <tr>\n",
       "      <th>14</th>\n",
       "      <td>The Station Hotel</td>\n",
       "      <td>8.5</td>\n",
       "      <td>434</td>\n",
       "      <td>112</td>\n",
       "    </tr>\n",
       "    <tr>\n",
       "      <th>15</th>\n",
       "      <td>The Bedford Balham - Live Music Venue</td>\n",
       "      <td>8.2</td>\n",
       "      <td>666</td>\n",
       "      <td>124</td>\n",
       "    </tr>\n",
       "    <tr>\n",
       "      <th>16</th>\n",
       "      <td>Seven Dials Hotel</td>\n",
       "      <td>7.6</td>\n",
       "      <td>1929</td>\n",
       "      <td>127</td>\n",
       "    </tr>\n",
       "    <tr>\n",
       "      <th>17</th>\n",
       "      <td>Ridgemount Hotel</td>\n",
       "      <td>8.6</td>\n",
       "      <td>1294</td>\n",
       "      <td>135</td>\n",
       "    </tr>\n",
       "    <tr>\n",
       "      <th>18</th>\n",
       "      <td>The Distillery</td>\n",
       "      <td>7.8</td>\n",
       "      <td>141</td>\n",
       "      <td>146</td>\n",
       "    </tr>\n",
       "    <tr>\n",
       "      <th>19</th>\n",
       "      <td>Hyde Park Green</td>\n",
       "      <td>7.5</td>\n",
       "      <td>378</td>\n",
       "      <td>133</td>\n",
       "    </tr>\n",
       "    <tr>\n",
       "      <th>20</th>\n",
       "      <td>Fox and Anchor</td>\n",
       "      <td>8.3</td>\n",
       "      <td>219</td>\n",
       "      <td>215</td>\n",
       "    </tr>\n",
       "    <tr>\n",
       "      <th>21</th>\n",
       "      <td>Tony's House Hotel</td>\n",
       "      <td>6.3</td>\n",
       "      <td>684</td>\n",
       "      <td>80</td>\n",
       "    </tr>\n",
       "    <tr>\n",
       "      <th>22</th>\n",
       "      <td>The Princess Victoria</td>\n",
       "      <td>8.1</td>\n",
       "      <td>384</td>\n",
       "      <td>135</td>\n",
       "    </tr>\n",
       "    <tr>\n",
       "      <th>23</th>\n",
       "      <td>KX Rooms Kings Cross</td>\n",
       "      <td>6.8</td>\n",
       "      <td>414</td>\n",
       "      <td>114</td>\n",
       "    </tr>\n",
       "    <tr>\n",
       "      <th>24</th>\n",
       "      <td>The Chapter Hotel Hyde Park</td>\n",
       "      <td>6.8</td>\n",
       "      <td>474</td>\n",
       "      <td>117</td>\n",
       "    </tr>\n",
       "  </tbody>\n",
       "</table>\n",
       "</div>"
      ],
      "text/plain": [
       "                                    Hotel Ratings No_of_Reviews Price, €\n",
       "0                         Fitzrovia Hotel     7.8          2624      221\n",
       "1                    ApartaSuites Emerald     8.2             4      171\n",
       "2              The Windmill On The Common     8.5           767      146\n",
       "3                          The Kings Arms     9.4           612      204\n",
       "4                    The Tommyfield Hotel     8.6           483      135\n",
       "5             Innbox Hotel St. Johns Wood     7.0            35      181\n",
       "6                    Lancaster Hall Hotel     7.9          1050      133\n",
       "7                             Haven Hotel     7.0           784       79\n",
       "8             Assaha Hyde Park Apartments     6.9          1298       83\n",
       "9                     The Tudor Inn Hotel     6.6           783      112\n",
       "10              Chelsea House Hotel - B&B     7.7          1492      111\n",
       "11               The Darlington Hyde Park     8.2           696      159\n",
       "12                   Coach & Horses Hotel     8.8           769      142\n",
       "13                         My Place Hotel     6.2           533      118\n",
       "14                      The Station Hotel     8.5           434      112\n",
       "15  The Bedford Balham - Live Music Venue     8.2           666      124\n",
       "16                      Seven Dials Hotel     7.6          1929      127\n",
       "17                       Ridgemount Hotel     8.6          1294      135\n",
       "18                         The Distillery     7.8           141      146\n",
       "19                        Hyde Park Green     7.5           378      133\n",
       "20                         Fox and Anchor     8.3           219      215\n",
       "21                     Tony's House Hotel     6.3           684       80\n",
       "22                  The Princess Victoria     8.1           384      135\n",
       "23                   KX Rooms Kings Cross     6.8           414      114\n",
       "24            The Chapter Hotel Hyde Park     6.8           474      117"
      ]
     },
     "execution_count": 52,
     "metadata": {},
     "output_type": "execute_result"
    }
   ],
   "source": [
    "df"
   ]
  },
  {
   "cell_type": "code",
   "execution_count": 42,
   "metadata": {},
   "outputs": [],
   "source": [
    "df.to_csv(\"bookingcom_london_list.csv\")"
   ]
  }
 ],
 "metadata": {
  "kernelspec": {
   "display_name": "Python 3.10.7 ('venv': venv)",
   "language": "python",
   "name": "python3"
  },
  "language_info": {
   "codemirror_mode": {
    "name": "ipython",
    "version": 3
   },
   "file_extension": ".py",
   "mimetype": "text/x-python",
   "name": "python",
   "nbconvert_exporter": "python",
   "pygments_lexer": "ipython3",
   "version": "3.10.7"
  },
  "orig_nbformat": 4,
  "vscode": {
   "interpreter": {
    "hash": "091e761e24fe66127ae47ddf3a06416362435e5d36a38a0dbf072a96138123f1"
   }
  }
 },
 "nbformat": 4,
 "nbformat_minor": 2
}
