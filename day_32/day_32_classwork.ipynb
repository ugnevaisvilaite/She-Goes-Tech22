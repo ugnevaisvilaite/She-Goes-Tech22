{
 "cells": [
  {
   "cell_type": "code",
   "execution_count": 2,
   "metadata": {},
   "outputs": [],
   "source": [
    "import re"
   ]
  },
  {
   "cell_type": "code",
   "execution_count": 3,
   "metadata": {},
   "outputs": [],
   "source": [
    "phone_text = \"\"\"\n",
    "+1 555 123 4567\n",
    "+1 555 123 456\n",
    "+1 555 123 45\n",
    "Latvia +371 20 123 456\n",
    "Lithuania +370 5 123 456\n",
    "Estonia +372 5123 456\n",
    "USA +1 408 123 4567\n",
    "sometimes we write our phone numbers like this: 555 123 4560\n",
    "sometimes we write our phone numbers like this: 555-123-4561\n",
    "sometimes we write our phone numbers like this: 555.123.4562 rarely\n",
    "also we use parentheses: (555) 123-4563\n",
    "so the assignment is to write a regular expression that will match all of these phone numbers\n",
    "\"\"\""
   ]
  },
  {
   "cell_type": "code",
   "execution_count": 54,
   "metadata": {},
   "outputs": [
    {
     "name": "stdout",
     "output_type": "stream",
     "text": [
      "['+1 555 123', '+1 555 123', '+1 555 123', '20 123 456', '+372 5123 456', '+1 408 123', '555 123 4560']\n"
     ]
    }
   ],
   "source": [
    "phone_number_list=re.findall(r\"[0-9_.+-]+[\\d+]+ [\\d+]+[\\d+]+[\\d+]+ [\\d+]+\",phone_text)\n",
    "print(phone_number_list)"
   ]
  }
 ],
 "metadata": {
  "kernelspec": {
   "display_name": "Python 3.10.7 ('venv': venv)",
   "language": "python",
   "name": "python3"
  },
  "language_info": {
   "codemirror_mode": {
    "name": "ipython",
    "version": 3
   },
   "file_extension": ".py",
   "mimetype": "text/x-python",
   "name": "python",
   "nbconvert_exporter": "python",
   "pygments_lexer": "ipython3",
   "version": "3.10.7"
  },
  "orig_nbformat": 4,
  "vscode": {
   "interpreter": {
    "hash": "091e761e24fe66127ae47ddf3a06416362435e5d36a38a0dbf072a96138123f1"
   }
  }
 },
 "nbformat": 4,
 "nbformat_minor": 2
}
